{
 "cells": [
  {
   "cell_type": "code",
   "execution_count": 5,
   "id": "d9579061",
   "metadata": {},
   "outputs": [
    {
     "name": "stdout",
     "output_type": "stream",
     "text": [
      "Nhập chiều dài cạnh thứ nhất : 3.2\n",
      "Nhập chiều dài cạnh thứ hai : 2.1\n",
      "Nhập chiều dài cạnh thứ ba : 4.5\n",
      " are of the triangle is :  3.054439392098002\n"
     ]
    }
   ],
   "source": [
    "#imprt thư viện math\n",
    "import math\n",
    "#Nhập giá trị ba cạnh, giá trị nhập vào dạng decimal (float)\n",
    "canh1=float(input(\"Nhập chiều dài cạnh thứ nhất : \"))\n",
    "canh2=float(input(\"Nhập chiều dài cạnh thứ hai : \"))\n",
    "canh3=float(input(\"Nhập chiều dài cạnh thứ ba : \"))\n",
    "#Khai báo biến diện tích (s), chu vi (p)\n",
    "#Tính diện tích tam giác theo công thức Heron s= sqrt(p*(p-a)*(p-b)*(p-c)), sqrt là căn bậc hai\n",
    "p=(canh1+canh2+canh3)/2\n",
    "s=math.sqrt(p*(p-canh1)*(p-canh2)*(p-canh3))\n",
    "print(\" are of the triangle is : \",s)\n",
    "\n"
   ]
  }
 ],
 "metadata": {
  "kernelspec": {
   "display_name": "Python 3 (ipykernel)",
   "language": "python",
   "name": "python3"
  },
  "language_info": {
   "codemirror_mode": {
    "name": "ipython",
    "version": 3
   },
   "file_extension": ".py",
   "mimetype": "text/x-python",
   "name": "python",
   "nbconvert_exporter": "python",
   "pygments_lexer": "ipython3",
   "version": "3.9.6"
  }
 },
 "nbformat": 4,
 "nbformat_minor": 5
}
